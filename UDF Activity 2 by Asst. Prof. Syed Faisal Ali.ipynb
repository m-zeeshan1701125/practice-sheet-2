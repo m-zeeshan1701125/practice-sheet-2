{
 "cells": [
  {
   "cell_type": "markdown",
   "metadata": {},
   "source": [
    "# Python User Define Function Practice Activity - 2 "
   ]
  },
  {
   "cell_type": "markdown",
   "metadata": {},
   "source": [
    "Asst. Prof. Syed Faisal Ali              $\\;\\;\\;\\;\\;\\;$              Programming Fundamentals - FALL 2019 $\\;\\;\\;\\;\\;\\;$ Software Engineering                     $\\;\\;\\;\\;\\;\\;$                   Dated: 27 Nov 2019"
   ]
  },
  {
   "cell_type": "markdown",
   "metadata": {},
   "source": [
    "Question 1: Create a function to find the following:\n",
    "If the base of triangle is 3 cm long and its equilateral triangle and the radius of circle is 1.5 cm then find the area of triangle shaded. \n"
   ]
  },
  {
   "cell_type": "markdown",
   "metadata": {},
   "source": [
    "![proj](q1.jpg)"
   ]
  },
  {
   "cell_type": "code",
   "execution_count": 1,
   "metadata": {},
   "outputs": [
    {
     "data": {
      "text/plain": [
       "2.25"
      ]
     },
     "execution_count": 1,
     "metadata": {},
     "output_type": "execute_result"
    }
   ],
   "source": [
    "def area(b,r):\n",
    "    h=b*r/2\n",
    "    return h\n",
    "area(3,1.5)"
   ]
  },
  {
   "cell_type": "markdown",
   "metadata": {},
   "source": [
    "Question 2: Create a function which can read a dictionary of your family members such as 5 members. \n",
    "1 Abbu, 1 Ammi, 2 Brothers 1 Sister. Now feed this data in dictionary in terms of name and relations.\n",
    "The UDF will ask findrelation() in this you will enter Brother it will return the names of two brothers you have inserted. In case if the relation is not found it will return “Sorry the relation doesn’t exist in your family.” \n"
   ]
  },
  {
   "cell_type": "code",
   "execution_count": 2,
   "metadata": {},
   "outputs": [
    {
     "data": {
      "text/plain": [
       "'shoaib, zubair'"
      ]
     },
     "execution_count": 2,
     "metadata": {},
     "output_type": "execute_result"
    }
   ],
   "source": [
    "def findrelation(b):\n",
    "    dict = {'father':'Abdul Haq' , 'brother':'shoaib, zubair' , 'sister':'eman' , 'mother':'hajra'}\n",
    "    a = dict[b]\n",
    "    return a\n",
    "findrelation('brother')"
   ]
  },
  {
   "cell_type": "markdown",
   "metadata": {},
   "source": [
    "Question 3: Create a function to find the following:\n",
    "If the base of triangle is 5 cm long and its equilateral triangle and the radius of circle is 2.25 cm then find the area of triangle shaded. \n"
   ]
  },
  {
   "cell_type": "markdown",
   "metadata": {},
   "source": [
    "![proj](q3.jpg)"
   ]
  },
  {
   "cell_type": "code",
   "execution_count": 3,
   "metadata": {},
   "outputs": [
    {
     "data": {
      "text/plain": [
       "10.825317547305483"
      ]
     },
     "execution_count": 3,
     "metadata": {},
     "output_type": "execute_result"
    }
   ],
   "source": [
    "import math\n",
    "def func(b):\n",
    "    h=b**2*((math.sqrt(3))/4)\n",
    "    return(h)\n",
    "func(5)"
   ]
  },
  {
   "cell_type": "markdown",
   "metadata": {},
   "source": [
    "Question 4:\n",
    "Create a function that takes a list of random numbers from users and add only those which are even. If all the numbers are odd it will return sorry no even number found.\n"
   ]
  },
  {
   "cell_type": "code",
   "execution_count": 12,
   "metadata": {},
   "outputs": [
    {
     "name": "stdout",
     "output_type": "stream",
     "text": [
      "Sorry no even found.\n",
      "2\n",
      "sum of even no: 2\n",
      "Sorry no even found.\n",
      "4\n",
      "sum of even no: 6\n",
      "Sorry no even found.\n",
      "6\n",
      "sum of even no: 12\n",
      "Sorry no even found.\n",
      "8\n",
      "sum of even no: 20\n",
      "Sorry no even found.\n",
      "10\n",
      "sum of even no: 30\n",
      "None\n"
     ]
    }
   ],
   "source": [
    "def A(l):\n",
    "    s=0\n",
    "    for i in l:\n",
    "        if i%2==0:\n",
    "            print(i)\n",
    "            s = s+i\n",
    "            print(\"sum of even no:\",s)\n",
    "        else:\n",
    "            print(\"Sorry no even found.\")\n",
    "print(A([1,2,3,4,5,6,7,8,9,10]))"
   ]
  },
  {
   "cell_type": "markdown",
   "metadata": {},
   "source": [
    "Question 5:\n",
    "Write a function which can take a list of numbers and it will return sorted list.\n"
   ]
  },
  {
   "cell_type": "code",
   "execution_count": 11,
   "metadata": {},
   "outputs": [
    {
     "name": "stdout",
     "output_type": "stream",
     "text": [
      "['-2', '1', '8', '9']\n"
     ]
    }
   ],
   "source": [
    "def list_(l):\n",
    "    return sorted(l)\n",
    "print (list_(['9','1','8','-2']))"
   ]
  },
  {
   "cell_type": "markdown",
   "metadata": {},
   "source": [
    "Question 6:\n",
    "Write a function that will take the radius and return the perimeter and area of circle with 5% increment.\n"
   ]
  },
  {
   "cell_type": "code",
   "execution_count": 31,
   "metadata": {},
   "outputs": [
    {
     "name": "stdout",
     "output_type": "stream",
     "text": [
      "Perimeter: 37.69911184307752\n",
      "Area of Circle: 118.75220230569418\n",
      " \n"
     ]
    },
    {
     "data": {
      "text/plain": [
       "(113.09733552923255, 37.69911184307752)"
      ]
     },
     "execution_count": 31,
     "metadata": {},
     "output_type": "execute_result"
    }
   ],
   "source": [
    "from math import pi\n",
    "def area_circle(r):\n",
    "    area=pi*(r**2)\n",
    "    a = area+(area*0.05)\n",
    "    print(\"Perimeter:\",2*pi*r)\n",
    "    print(\"Area of Circle:\",a)\n",
    "    return \" \"\n",
    "print(area_circle(6))\n",
    "\n",
    "\n",
    "from math import pi\n",
    "def radius(r):\n",
    "    area=pi*r**2\n",
    "    perimeter=2*pi*r\n",
    "    return(area,perimeter)\n",
    "radius(6)"
   ]
  },
  {
   "cell_type": "markdown",
   "metadata": {},
   "source": [
    "Question 7:\n",
    "Write a function that will take the strings as argument and return number of vowels and consonants.\n"
   ]
  },
  {
   "cell_type": "code",
   "execution_count": 50,
   "metadata": {},
   "outputs": [
    {
     "name": "stdout",
     "output_type": "stream",
     "text": [
      "Vowels are 9\n",
      "consonants are 18\n"
     ]
    }
   ],
   "source": [
    "def check(str):\n",
    "    vlist=['a','e','i','e','o','u','A','E','I','O','U']\n",
    "    vcount=0\n",
    "    ccount=0\n",
    "    for i in str.lower():\n",
    "        if i in vlist:\n",
    "            vcount+=1\n",
    "        else:\n",
    "            ccount+=1\n",
    "    print(\"Vowels are\", vcount)\n",
    "    print(\"consonants are\", ccount)\n",
    "check('My Name Is Muhammad Zeeshan')"
   ]
  },
  {
   "cell_type": "markdown",
   "metadata": {},
   "source": [
    "Question 8:\n",
    "Write a function that will take length and breadth for a rectangle and return perimeter and area of rectangle with 8% increment.\n"
   ]
  },
  {
   "cell_type": "code",
   "execution_count": 52,
   "metadata": {},
   "outputs": [
    {
     "name": "stdout",
     "output_type": "stream",
     "text": [
      "area of rectangle: 38.88\n",
      "perimeter: 26\n"
     ]
    }
   ],
   "source": [
    "from math import pi\n",
    "def rec(l,b):\n",
    "    area=l*b\n",
    "    a=area+(area*0.08)\n",
    "    print(\"area of rectangle:\",a)\n",
    "    print(\"perimeter:\",2*(l+b))\n",
    "rec(4,9)  "
   ]
  },
  {
   "cell_type": "markdown",
   "metadata": {},
   "source": [
    "\n",
    "Question 9:\n",
    "Write a function that can take the numbers in strings. From string find which number is even and which one is odd. Save them in two different lists and generate the result.\n"
   ]
  },
  {
   "cell_type": "code",
   "execution_count": 55,
   "metadata": {},
   "outputs": [
    {
     "name": "stdout",
     "output_type": "stream",
     "text": [
      "Numbers of Even : 4\n",
      "Numbers of odd: 5\n",
      "List of even: ['2', '4', '6', '8']\n",
      "List of odd: ['1', '3', '5', '7', '9']\n"
     ]
    }
   ],
   "source": [
    "string = \"123456789\"\n",
    "e = 0\n",
    "o = 0\n",
    "el = []\n",
    "ol = []\n",
    "for i in string:\n",
    "    if int(i)%2==0:\n",
    "        e += 1\n",
    "        el.append(i)\n",
    "    else:\n",
    "        o += 1\n",
    "        ol.append(i)\n",
    "print('Numbers of Even :',e)\n",
    "print('Numbers of odd:',o)\n",
    "print(\"List of even:\",el)\n",
    "print(\"List of odd:\",ol)"
   ]
  },
  {
   "cell_type": "markdown",
   "metadata": {},
   "source": [
    "Question 10:\n",
    "Write a function which will take the string from the user and return how many alphabets have been used in it and which alphabets are missing.\n"
   ]
  },
  {
   "cell_type": "code",
   "execution_count": 62,
   "metadata": {},
   "outputs": [
    {
     "name": "stdout",
     "output_type": "stream",
     "text": [
      "9\n",
      "bcfgijklopqrtvwxy\n"
     ]
    }
   ],
   "source": [
    "string = \"muhammad zeeshan\"\n",
    "n = 0\n",
    "a = 'abcdefghijklmnopqrstuvwxyz'\n",
    "for i in string:\n",
    "    if i in a:\n",
    "        a = a.replace(i,\"\")\n",
    "        n += 1\n",
    "print(n)\n",
    "print(a)"
   ]
  },
  {
   "cell_type": "markdown",
   "metadata": {},
   "source": [
    "Question 11:\n",
    "Write a function that will take verbs in words and return a list of verbs with continuous tense by adding (ing) at the end of each verb.\n"
   ]
  },
  {
   "cell_type": "code",
   "execution_count": 65,
   "metadata": {},
   "outputs": [
    {
     "name": "stdout",
     "output_type": "stream",
     "text": [
      "verb working\n"
     ]
    }
   ],
   "source": [
    "def verb(a):\n",
    "    if a[-1] == 'e':\n",
    "        a = a.replace(a[-1],\"\")\n",
    "        print(\"verb\",a+\"ing\")\n",
    "    else:\n",
    "        print(\"verb\",a+\"ing\")\n",
    "verb('work')"
   ]
  },
  {
   "cell_type": "markdown",
   "metadata": {},
   "source": [
    "Question 12:\n",
    "Make a function which can take two radius of circles and find the areas of it and subtract smaller one from larger one and tell the remaining area of circle.\n"
   ]
  },
  {
   "cell_type": "code",
   "execution_count": 66,
   "metadata": {},
   "outputs": [
    {
     "name": "stdout",
     "output_type": "stream",
     "text": [
      "530.929158456675\n"
     ]
    }
   ],
   "source": [
    "from math import pi\n",
    "def cc(r,rr):\n",
    "    a = pi*(r**2)\n",
    "    aa = pi*(rr**2)\n",
    "    if a > aa:\n",
    "        fa = (aa - a)\n",
    "    else:\n",
    "        fa = (a - aa)\n",
    "    return abs(fa)\n",
    "print(cc(0,13))"
   ]
  },
  {
   "cell_type": "markdown",
   "metadata": {},
   "source": [
    "Question 13:\n",
    "Write a function that will take a string and calculate number of Upper case letters and lower case letters.\n"
   ]
  },
  {
   "cell_type": "code",
   "execution_count": 69,
   "metadata": {},
   "outputs": [
    {
     "name": "stdout",
     "output_type": "stream",
     "text": [
      "6 1\n",
      "None\n"
     ]
    }
   ],
   "source": [
    "def ul(s):\n",
    "    nu = 0\n",
    "    nl = 0\n",
    "    l = 'abcdefghijklmnopqrstuvwxyz'\n",
    "    u = 'ABCDEFGHIJKLMNOPQRSTUVWXYZ'\n",
    "    for i in s:\n",
    "        if i in u:\n",
    "            nu = nu+1\n",
    "        if i in l:\n",
    "            nl = nl+1\n",
    "    print(nl,nu)\n",
    "print(ul(\"Zeeshan\"))"
   ]
  },
  {
   "cell_type": "markdown",
   "metadata": {},
   "source": [
    "Question 14:\n",
    "Write a function which will take length and breadth of two rectangles. Subtract the smaller rectangle from the larger rectangle and return the area left behind.\n"
   ]
  },
  {
   "cell_type": "code",
   "execution_count": 78,
   "metadata": {},
   "outputs": [
    {
     "name": "stdout",
     "output_type": "stream",
     "text": [
      "82\n"
     ]
    }
   ],
   "source": [
    "def cc(l1,b1,l2,b2):\n",
    "    a = l1*b1\n",
    "    aa = l2*b2\n",
    "    if a > aa:\n",
    "        fa = (aa - a)\n",
    "    else:\n",
    "        fa = (a - aa)\n",
    "    return abs(fa)\n",
    "print(cc(5,7,9,13))"
   ]
  },
  {
   "cell_type": "markdown",
   "metadata": {},
   "source": [
    "Question 15:\n",
    "Create a function that can add the fractions in series such as 1 to 8 = 1/8+1/7+1/6+1/5 …… ½ and return the result in fraction not in decimal.\n"
   ]
  },
  {
   "cell_type": "code",
   "execution_count": 79,
   "metadata": {},
   "outputs": [
    {
     "name": "stdout",
     "output_type": "stream",
     "text": [
      "363/140\n"
     ]
    }
   ],
   "source": [
    "from fractions import Fraction\n",
    "i = 1 \n",
    "f = 8\n",
    "ff = 0\n",
    "for ii in range(i,f):\n",
    "    ff = ff + Fraction(1,ii)\n",
    "print(ff)"
   ]
  },
  {
   "cell_type": "markdown",
   "metadata": {},
   "source": [
    "Question 16:\n",
    "Write a function which will take height and base for a triangle and \n"
   ]
  },
  {
   "cell_type": "code",
   "execution_count": null,
   "metadata": {},
   "outputs": [],
   "source": []
  },
  {
   "cell_type": "markdown",
   "metadata": {},
   "source": [
    "Question 17:\n",
    "Write a function which will take a list of fruits names. The function will return how many alphabets are repetitive in the names of fruits and how many are unique letters.\n"
   ]
  },
  {
   "cell_type": "code",
   "execution_count": 85,
   "metadata": {},
   "outputs": [
    {
     "name": "stdout",
     "output_type": "stream",
     "text": [
      "rep 2\n"
     ]
    }
   ],
   "source": [
    "f = 'Guava'\n",
    "F = \"\"\n",
    "nn = 0\n",
    "for i in f:\n",
    "    n = f.count(i)\n",
    "    if n > 1:\n",
    "        nn = nn + 1\n",
    "print('rep',nn)"
   ]
  },
  {
   "cell_type": "markdown",
   "metadata": {},
   "source": [
    "Question 18:\n",
    "Write a function that can take square length and radius of circle. Find the area of both and subtract the smallest shape from largest one and return the remaining shape area.\n"
   ]
  },
  {
   "cell_type": "code",
   "execution_count": 81,
   "metadata": {},
   "outputs": [
    {
     "name": "stdout",
     "output_type": "stream",
     "text": [
      "16\n",
      "153.958\n"
     ]
    },
    {
     "data": {
      "text/plain": [
       "137.958"
      ]
     },
     "execution_count": 81,
     "metadata": {},
     "output_type": "execute_result"
    }
   ],
   "source": [
    "def sc(l,r):\n",
    "    sa = l*l\n",
    "    ca = 3.142*(r**2)\n",
    "    print(sa)\n",
    "    print(ca)\n",
    "    if sa > ca:\n",
    "        fa = (ca - sa)\n",
    "    else:\n",
    "        fa = (sa - ca)\n",
    "    return abs(fa) \n",
    "sc(4,7)"
   ]
  }
 ],
 "metadata": {
  "kernelspec": {
   "display_name": "Python 3",
   "language": "python",
   "name": "python3"
  },
  "language_info": {
   "codemirror_mode": {
    "name": "ipython",
    "version": 3
   },
   "file_extension": ".py",
   "mimetype": "text/x-python",
   "name": "python",
   "nbconvert_exporter": "python",
   "pygments_lexer": "ipython3",
   "version": "3.7.4"
  }
 },
 "nbformat": 4,
 "nbformat_minor": 2
}
